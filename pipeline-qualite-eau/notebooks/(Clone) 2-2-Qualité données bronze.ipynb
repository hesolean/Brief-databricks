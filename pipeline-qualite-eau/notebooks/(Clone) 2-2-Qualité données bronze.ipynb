{
 "cells": [
  {
   "cell_type": "code",
   "execution_count": 0,
   "metadata": {
    "application/vnd.databricks.v1+cell": {
     "cellMetadata": {
      "byteLimit": 2048000,
      "rowLimit": 10000
     },
     "inputWidgets": {},
     "nuid": "e129a591-e8b4-4ddb-8eb2-db6f671731e3",
     "showTitle": false,
     "tableResultSettingsMap": {},
     "title": ""
    }
   },
   "outputs": [],
   "source": [
    "%pip install great_expectations"
   ]
  },
  {
   "cell_type": "code",
   "execution_count": 0,
   "metadata": {
    "application/vnd.databricks.v1+cell": {
     "cellMetadata": {
      "byteLimit": 2048000,
      "rowLimit": 10000
     },
     "inputWidgets": {},
     "nuid": "192de10b-0fba-46ab-9a3b-bdf728b10aee",
     "showTitle": false,
     "tableResultSettingsMap": {},
     "title": ""
    }
   },
   "outputs": [],
   "source": [
    "#pip install great_expectations\n",
    "\n",
    "\n",
    "#1- Import the following libraries\n",
    "import great_expectations as gx\n",
    "# Pandas -> \n",
    "import pandas as pd\n",
    "\n",
    "# -> Line to check gx core version: print(gx.__version__)\n",
    "\n",
    "# 2- Download and read the sample data into a Pandas DataFrame.\n",
    "df = spark.read.table(\"lnd_databricks_workspace.bronze.bronze_plv\").toPandas()\n",
    "\n",
    "#3- A Data Context object serves as the entrypoint for interacting with GX components.\n",
    "context = gx.get_context()\n",
    "\n",
    "#4- Connect to data and create a Batch.\n",
    "# Define a Data Source, Data Asset, Batch Definition, and Batch. The Pandas DataFrame is provided to the Batch Definition at runtime to create the Batch.\n",
    "\n",
    "data_source = context.data_sources.add_pandas(\"pandas\")\n",
    "data_asset = data_source.add_dataframe_asset(name=\"pd dataframe asset\")\n",
    "\n",
    "batch_definition = data_asset.add_batch_definition_whole_dataframe(\"batch definition\")\n",
    "batch = batch_definition.get_batch(batch_parameters={\"dataframe\": df})\n",
    "\n",
    "\n",
    "#Create an Expectation.\n",
    "#Expectations are a fundamental component of GX. They allow you to explicitly define the state to which your data should conform.\n",
    "#Run the following code to define an Expectation that the contents of the column passenger_count consist of values ranging from 2 to 6:\n",
    "expectation = gx.expectations.ExpectColumnValuesToBeBetween(\n",
    "    column=\"inseecommuneprinc\", min_value=0, max_value=99999\n",
    ")\n",
    "\n",
    "#Run and get the results!\n",
    "validation_result = batch.validate(expectation)\n",
    "\n",
    "print(validation_result)"
   ]
  }
 ],
 "metadata": {
  "application/vnd.databricks.v1+notebook": {
   "computePreferences": null,
   "dashboards": [],
   "environmentMetadata": {
    "base_environment": "",
    "environment_version": "4"
   },
   "inputWidgetPreferences": null,
   "language": "python",
   "notebookMetadata": {
    "pythonIndentUnit": 4
   },
   "notebookName": "(Clone) 2-2-Qualité données bronze",
   "widgets": {}
  },
  "language_info": {
   "name": "python"
  }
 },
 "nbformat": 4,
 "nbformat_minor": 0
}
