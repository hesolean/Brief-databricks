{
 "cells": [
  {
   "cell_type": "code",
   "execution_count": 0,
   "metadata": {
    "application/vnd.databricks.v1+cell": {
     "cellMetadata": {
      "byteLimit": 2048000,
      "rowLimit": 10000
     },
     "collapsed": true,
     "inputWidgets": {},
     "nuid": "e129a591-e8b4-4ddb-8eb2-db6f671731e3",
     "showTitle": false,
     "tableResultSettingsMap": {},
     "title": ""
    }
   },
   "outputs": [],
   "source": [
    "%pip install great_expectations\n"
   ]
  },
  {
   "cell_type": "markdown",
   "metadata": {
    "application/vnd.databricks.v1+cell": {
     "cellMetadata": {},
     "inputWidgets": {},
     "nuid": "bc2cfedc-d169-4604-bd49-c84e75448a5f",
     "showTitle": false,
     "tableResultSettingsMap": {},
     "title": ""
    }
   },
   "source": [
    "Chargement des zip"
   ]
  },
  {
   "cell_type": "code",
   "execution_count": 0,
   "metadata": {
    "application/vnd.databricks.v1+cell": {
     "cellMetadata": {
      "byteLimit": 2048000,
      "rowLimit": 10000
     },
     "inputWidgets": {},
     "nuid": "313d7a1b-5652-4d05-8c42-3f3106517fc7",
     "showTitle": false,
     "tableResultSettingsMap": {},
     "title": ""
    }
   },
   "outputs": [],
   "source": [
    "import requests\n",
    "import zipfile\n",
    "from azure.storage.blob import BlobServiceClient\n",
    "from io import BytesIO\n",
    "import os\n",
    "\n",
    "DefaultEndpointsProtocol = os.environ[\"DefaultEndpointsProtocol\"]\n",
    "AccountName = os.environ[\"AccountName\"]\n",
    "AccountKey = os.environ[\"AccountKey\"]\n",
    "EndpointSuffix = os.environ[\"EndpointSuffix\"]\n",
    "\n",
    "# 1. Définir les variables\n",
    "urls = [\"https://www.data.gouv.fr/api/1/datasets/r/6994a9f1-3f4b-4e15-a4dc-0e358a6aac13\",\"https://www.data.gouv.fr/api/1/datasets/r/c0350599-a041-4724-9942-ad4c2ba9a7b3\",\"https://www.data.gouv.fr/api/1/datasets/r/96452cf0-329a-4908-8adb-8f061adcca4c\",\"https://www.data.gouv.fr/api/1/datasets/r/77d3151a-739e-4aab-8c34-7a15d7fea55d\",\"https://www.data.gouv.fr/api/1/datasets/r/3c5ebbd9-f6b5-4837-a194-12bfeda7f38e\"]\n",
    "\n",
    "blob_connecting_string = f\"DefaultEndpointsProtocol={DefaultEndpointsProtocol};AccountName={AccountName};AccountKey={AccountKey};EndpointSuffix={EndpointSuffix}\"\n",
    "\n",
    "container_name = \"lnd-fichiers-source\"\n",
    "\n",
    "# 2. Envoyer dans ton Blob\n",
    "blob_service_client = BlobServiceClient.from_connection_string(blob_connecting_string)\n",
    "\n",
    "container_client = blob_service_client.get_container_client(container_name)\n",
    "\n",
    "for annee, url in zip([\"2025\",\"2024\",\"2023\",\"2022\",\"2021\"],urls):\n",
    "    response = requests.get(url)\n",
    "    if response.status_code != 200:\n",
    "        raise Exception(f\"Erreur lors du téléchargement du fichier : {response.status_code}\")\n",
    "    zip_bytes = BytesIO(response.content)\n",
    "    zip_name = f\"dis-{annee}-dept.zip\"\n",
    "    container_client.upload_blob(name=zip_name, data=zip_bytes, overwrite=True)\n",
    "\n",
    "    print(f\"{zip_name} envoyé dans le blob ✅\")\n"
   ]
  },
  {
   "cell_type": "markdown",
   "metadata": {
    "application/vnd.databricks.v1+cell": {
     "cellMetadata": {},
     "inputWidgets": {},
     "nuid": "c61cced6-9eeb-4bde-97dc-09aa79e8463d",
     "showTitle": false,
     "tableResultSettingsMap": {},
     "title": ""
    }
   },
   "source": [
    "Dézippage dans Azure"
   ]
  },
  {
   "cell_type": "code",
   "execution_count": 0,
   "metadata": {
    "application/vnd.databricks.v1+cell": {
     "cellMetadata": {
      "byteLimit": 2048000,
      "rowLimit": 10000
     },
     "inputWidgets": {},
     "nuid": "67e3afc0-a685-4402-9664-74b62706c60f",
     "showTitle": false,
     "tableResultSettingsMap": {},
     "title": ""
    }
   },
   "outputs": [],
   "source": [
    "import zipfile\n",
    "\n",
    "# Connexion à Azure\n",
    "blob_service_client = BlobServiceClient.from_connection_string(blob_connecting_string)\n",
    "source_container = blob_service_client.get_container_client(\"lnd-fichiers-source\")\n",
    "dest_container_name = \"lnd-fichiers-dezip\"\n",
    "\n",
    "# Créer le conteneur de destination si nécessaire\n",
    "if not blob_service_client.get_container_client(dest_container_name).exists():\n",
    "    blob_service_client.create_container(dest_container_name)\n",
    "\n",
    "dest_container = blob_service_client.get_container_client(dest_container_name)\n",
    "\n",
    "# Lister les blobs ZIP\n",
    "blobs_list = source_container.list_blobs()\n",
    "for blob in blobs_list:\n",
    "    if blob.name.endswith(\".zip\"):\n",
    "        print(f\"Décompression de {blob.name}...\")\n",
    "\n",
    "        # Télécharger le ZIP en mémoire\n",
    "        blob_data = source_container.download_blob(blob.name).readall()\n",
    "        zip_bytes = BytesIO(blob_data)\n",
    "\n",
    "        # Dézipper\n",
    "        with zipfile.ZipFile(zip_bytes) as z:\n",
    "            for file_name in z.namelist():\n",
    "                # Lire le fichier dans la mémoire\n",
    "                file_data = z.read(file_name)\n",
    "\n",
    "                # Envoyer le fichier dans le blob de destination\n",
    "                dest_blob_name = file_name  # tu peux rajouter un préfixe si tu veux\n",
    "                dest_container.upload_blob(name=dest_blob_name, data=file_data, overwrite=True)\n",
    "                print(f\"  - {file_name} envoyé dans {dest_container_name} ✅\")\n"
   ]
  },
  {
   "cell_type": "markdown",
   "metadata": {
    "application/vnd.databricks.v1+cell": {
     "cellMetadata": {},
     "inputWidgets": {},
     "nuid": "f31a4e06-848e-4466-aa82-3550b6b93663",
     "showTitle": false,
     "tableResultSettingsMap": {},
     "title": ""
    }
   },
   "source": [
    "Récupération d'un fichier spécifique"
   ]
  },
  {
   "cell_type": "code",
   "execution_count": 0,
   "metadata": {
    "application/vnd.databricks.v1+cell": {
     "cellMetadata": {
      "byteLimit": 2048000,
      "rowLimit": 10000
     },
     "inputWidgets": {},
     "nuid": "96e61a97-03b9-4b22-b229-1887eb0e36b8",
     "showTitle": false,
     "tableResultSettingsMap": {},
     "title": ""
    }
   },
   "outputs": [],
   "source": [
    "import pandas as pd\n",
    "from io import BytesIO\n",
    "\n",
    "# Supposons que tu as déjà ton blob client\n",
    "blob_name = \"DIS_COM_UDI_2021.txt\"\n",
    "blob_data = dest_container.download_blob(blob_name).readall()  # récupère les octets\n",
    "\n",
    "# Convertir les octets en flux pour pandas\n",
    "df = pd.read_csv(BytesIO(blob_data), sep=\",\", encoding=\"utf-8\")\n",
    "df.head()\n",
    "\n"
   ]
  },
  {
   "cell_type": "markdown",
   "metadata": {
    "application/vnd.databricks.v1+cell": {
     "cellMetadata": {},
     "inputWidgets": {},
     "nuid": "fae7d88c-9a1d-4368-9d77-1100018b14ed",
     "showTitle": false,
     "tableResultSettingsMap": {},
     "title": ""
    }
   },
   "source": [
    "Initialisation de Great Expectation"
   ]
  },
  {
   "cell_type": "code",
   "execution_count": 0,
   "metadata": {
    "application/vnd.databricks.v1+cell": {
     "cellMetadata": {
      "byteLimit": 2048000,
      "rowLimit": 10000
     },
     "inputWidgets": {},
     "nuid": "eeb3e895-6a85-47ec-a846-fdd08f17999a",
     "showTitle": false,
     "tableResultSettingsMap": {},
     "title": ""
    }
   },
   "outputs": [],
   "source": [
    "import great_expectations as ge\n",
    "from great_expectations.core.batch import RuntimeBatchRequest\n",
    "\n",
    "# 1️⃣ Récupérer le contexte (local notebook)\n",
    "context = ge.get_context()\n",
    "\n",
    "# 2️⃣ Créer un datasource Pandas\n",
    "data_source_name = \"my_data_source\"\n",
    "data_source = context.data_sources.add_pandas(name=data_source_name)\n",
    "data_asset_name = \"my_dataframe_data_asset\"\n",
    "data_asset = data_source.add_dataframe_asset(name=data_asset_name)\n"
   ]
  },
  {
   "cell_type": "markdown",
   "metadata": {
    "application/vnd.databricks.v1+cell": {
     "cellMetadata": {},
     "inputWidgets": {},
     "nuid": "796051da-f7ee-42c9-810f-13cfd7020eb0",
     "showTitle": false,
     "tableResultSettingsMap": {},
     "title": ""
    }
   },
   "source": [
    "Ajouter des attentes"
   ]
  },
  {
   "cell_type": "code",
   "execution_count": 0,
   "metadata": {
    "application/vnd.databricks.v1+cell": {
     "cellMetadata": {
      "byteLimit": 2048000,
      "rowLimit": 10000
     },
     "inputWidgets": {},
     "nuid": "8f954d28-d796-4d9f-8b45-d9fa582ff67a",
     "showTitle": false,
     "tableResultSettingsMap": {},
     "title": ""
    }
   },
   "outputs": [],
   "source": [
    "from great_expectations import expectations as gxe\n",
    "\n",
    "batch_definition = data_asset.add_batch_definition_whole_dataframe(\"batch_definition_unique\")\n",
    "batch = batch_definition.get_batch(batch_parameters={\"dataframe\": df})\n",
    "\n",
    "# Pas de valeurs nulles dans la colonne 'departement'\n",
    "not_null_expectation = gxe.ExpectColumnValuesToNotBeNull(column=\"inseecommune\")\n",
    "print(not_null_expectation)\n",
    "\n",
    "# Les inseecommune doivent être entre 0 et 97900\n",
    "df[\"inseecommune\"] = pd.to_numeric(df[\"inseecommune\"], errors=\"coerce\")\n",
    "\n",
    "between_expectations = gxe.ExpectColumnMaxToBeBetween(column=\"inseecommune\", min_value=0, max_value=97900)\n"
   ]
  },
  {
   "cell_type": "markdown",
   "metadata": {
    "application/vnd.databricks.v1+cell": {
     "cellMetadata": {},
     "inputWidgets": {},
     "nuid": "ac32a2f8-3203-4c48-8916-03fc5ea82889",
     "showTitle": false,
     "tableResultSettingsMap": {},
     "title": ""
    }
   },
   "source": [
    "Valider les attentes"
   ]
  },
  {
   "cell_type": "code",
   "execution_count": 0,
   "metadata": {
    "application/vnd.databricks.v1+cell": {
     "cellMetadata": {
      "byteLimit": 2048000,
      "rowLimit": 10000
     },
     "inputWidgets": {},
     "nuid": "00bb5b13-a140-49bb-b0b1-d1883dc2f008",
     "showTitle": false,
     "tableResultSettingsMap": {},
     "title": ""
    }
   },
   "outputs": [],
   "source": [
    "validation_result1 = batch.validate(not_null_expectation)\n",
    "\n",
    "print(validation_result1)\n"
   ]
  },
  {
   "cell_type": "code",
   "execution_count": 0,
   "metadata": {
    "application/vnd.databricks.v1+cell": {
     "cellMetadata": {
      "byteLimit": 2048000,
      "rowLimit": 10000
     },
     "inputWidgets": {},
     "nuid": "8014a27f-680d-46a7-b7ae-964bb07029d7",
     "showTitle": false,
     "tableResultSettingsMap": {},
     "title": ""
    }
   },
   "outputs": [],
   "source": [
    "validation_result2 = batch.validate(between_expectations)\n",
    "\n",
    "print(validation_result2)"
   ]
  },
  {
   "cell_type": "markdown",
   "metadata": {
    "application/vnd.databricks.v1+cell": {
     "cellMetadata": {},
     "inputWidgets": {},
     "nuid": "f1052af9-281e-4c03-8ece-e307db83943c",
     "showTitle": false,
     "tableResultSettingsMap": {},
     "title": ""
    }
   },
   "source": [
    "Rapport de résultats"
   ]
  },
  {
   "cell_type": "code",
   "execution_count": 0,
   "metadata": {
    "application/vnd.databricks.v1+cell": {
     "cellMetadata": {
      "byteLimit": 2048000,
      "rowLimit": 10000
     },
     "inputWidgets": {},
     "nuid": "95b8c684-c930-4b1a-81bc-e7963b4ff725",
     "showTitle": false,
     "tableResultSettingsMap": {},
     "title": ""
    }
   },
   "outputs": [],
   "source": [
    "from datetime import datetime\n",
    "import pandas as pd\n",
    "\n",
    "# --- Simule tes résultats GE (tu peux remplacer par tes vraies variables si elles existent encore)\n",
    "results = []\n",
    "\n",
    "# Résultat 1 - not null\n",
    "res1 = {\n",
    "    \"success\": True,  # tu peux le récupérer directement depuis ton expectation_result.success\n",
    "    \"expectation_config\": {\n",
    "        \"type\": \"expect_column_values_to_not_be_null\",\n",
    "        \"kwargs\": {\"column\": \"inseecommune\"},\n",
    "    },\n",
    "    \"result\": {},\n",
    "}\n",
    "results.append(res1)\n",
    "\n",
    "# Résultat 2 - bornes INSEE\n",
    "res2 = {\n",
    "    \"success\": True,\n",
    "    \"expectation_config\": {\n",
    "        \"type\": \"expect_column_max_to_be_between\",\n",
    "        \"kwargs\": {\n",
    "            \"column\": \"inseecommune\",\n",
    "            \"min_value\": 0.0,\n",
    "            \"max_value\": 97900.0,\n",
    "        },\n",
    "    },\n",
    "    \"result\": {\"observed_value\": 97801.0},\n",
    "}\n",
    "results.append(res2)\n",
    "\n",
    "# --- Transformation en tableau propre\n",
    "records = []\n",
    "for res in results:\n",
    "    record = {\n",
    "        \"date_execution\": datetime.now().strftime(\"%Y-%m-%d %H:%M:%S\"),\n",
    "        \"nom_analyse\": res[\"expectation_config\"][\"type\"],\n",
    "        \"colonne\": res[\"expectation_config\"][\"kwargs\"].get(\"column\"),\n",
    "        \"borne_min\": res[\"expectation_config\"][\"kwargs\"].get(\"min_value\"),\n",
    "        \"borne_max\": res[\"expectation_config\"][\"kwargs\"].get(\"max_value\"),\n",
    "        \"valeur_observee\": res[\"result\"].get(\"observed_value\"),\n",
    "        \"resultat\": \"SUCCES\" if res[\"success\"] else \"ECHEC\",\n",
    "    }\n",
    "    records.append(record)\n",
    "\n",
    "df_results = pd.DataFrame(records)\n",
    "display(df_results)\n",
    "\n"
   ]
  },
  {
   "cell_type": "markdown",
   "metadata": {
    "application/vnd.databricks.v1+cell": {
     "cellMetadata": {},
     "inputWidgets": {},
     "nuid": "5fe5234c-5834-4c0e-adb5-d328fce14ef3",
     "showTitle": false,
     "tableResultSettingsMap": {},
     "title": ""
    }
   },
   "source": [
    "Mise en table"
   ]
  },
  {
   "cell_type": "code",
   "execution_count": 0,
   "metadata": {
    "application/vnd.databricks.v1+cell": {
     "cellMetadata": {},
     "inputWidgets": {},
     "nuid": "33ec9390-3ef6-48ab-8601-53e89229adfe",
     "showTitle": false,
     "tableResultSettingsMap": {},
     "title": ""
    }
   },
   "outputs": [],
   "source": [
    "# Convertir en Spark DF\n",
    "spark_df = spark.createDataFrame(pd.DataFrame(records))\n",
    "\n",
    "# Déclarer la Live Table\n",
    "@dlt.table(\n",
    "    name=\"data_quality_results\",\n",
    "    comment=\"Résultats des contrôles de qualité des données (Great Expectations)\"\n",
    ")\n",
    "def data_quality_results():\n",
    "    return (\n",
    "        spark_df\n",
    "        .withColumn(\"source\", lit(\"qualite_eau\"))\n",
    "        .withColumn(\"date_insertion\", current_timestamp())"
   ]
  }
 ],
 "metadata": {
  "application/vnd.databricks.v1+notebook": {
   "computePreferences": null,
   "dashboards": [],
   "environmentMetadata": {
    "base_environment": "",
    "environment_version": "4"
   },
   "inputWidgetPreferences": null,
   "language": "python",
   "notebookMetadata": {
    "pythonIndentUnit": 4
   },
   "notebookName": "1-Import données source",
   "widgets": {}
  },
  "language_info": {
   "name": "python"
  }
 },
 "nbformat": 4,
 "nbformat_minor": 0
}
