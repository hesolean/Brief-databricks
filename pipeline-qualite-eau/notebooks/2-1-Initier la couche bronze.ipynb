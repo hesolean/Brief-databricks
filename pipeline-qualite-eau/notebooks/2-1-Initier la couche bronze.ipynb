{
 "cells": [
  {
   "cell_type": "code",
   "execution_count": 0,
   "metadata": {
    "application/vnd.databricks.v1+cell": {
     "cellMetadata": {
      "byteLimit": 2048000,
      "rowLimit": 10000
     },
     "inputWidgets": {},
     "nuid": "f92b2db5-524f-4add-bb28-d019b4d374ff",
     "showTitle": false,
     "tableResultSettingsMap": {},
     "title": ""
    }
   },
   "outputs": [],
   "source": [
    "import dlt\n",
    "from pyspark.sql.functions import col, regexp_extract, input_file_name\n",
    "import os\n",
    "\n",
    "# Récupération de la clé stockée dans le scope\n",
    "key = dbutils.secrets.get(scope=\"ln-scope\", key=\"AZURE_STORAGE_KEY\")\n",
    "\n",
    "spark.conf.set(\n",
    "  \"fs.azure.account.key.lndqualiteeaustorage.dfs.core.windows.net\",\n",
    "  key\n",
    ")\n",
    "# --- Table bronze COM ---\n",
    "# Récupère la liste des fichiers commençant par \"DIS_COM_UDI\"\n",
    "files_com = [\n",
    "    f.path\n",
    "    for f in dbutils.fs.ls(\"abfss://lnd-fichiers-dezip@lndqualiteeaustorage.dfs.core.windows.net/\")\n",
    "    if f.name.startswith(\"DIS_COM_UDI\")\n",
    "]\n",
    "print(files_com)\n",
    "\n",
    "@dlt.table(\n",
    "    comment=\"Table bronze avec les données brutes depuis ADLS les fichiers DIS_COM_UDI_annee.txt\",\n",
    "    partition_cols=[\"annee\"]\n",
    ")\n",
    "def bronze_com():\n",
    "    df = (\n",
    "        spark.read.format(\"csv\")\n",
    "        .option(\"header\", \"true\")\n",
    "        .load(files_com)\n",
    "    )\n",
    "    # Extraire l'année depuis le nom du fichier (ex: DIS_COM_UDI_2023.txt)\n",
    "    df = df.withColumn(\n",
    "        \"annee\",\n",
    "        regexp_extract(col(\"_metadata.file_path\"), r\"DIS_COM_UDI_(\\d{4})\", 1)\n",
    "    )\n",
    "    return df\n",
    "\n",
    "# --- Table bronze PLV ---\n",
    "# Récupère la liste des fichiers commençant par \"DIS_PLV\"\n",
    "files_plv = [\n",
    "    f.path\n",
    "    for f in dbutils.fs.ls(\"abfss://lnd-fichiers-dezip@lndqualiteeaustorage.dfs.core.windows.net/\")\n",
    "    if f.name.startswith(\"DIS_PLV\")\n",
    "]\n",
    "print(files_plv)\n",
    "\n",
    "@dlt.table(\n",
    "    comment=\"Table bronze avec les données brutes depuis ADLS les fichiers DIS_PLV_annee_xxx.txt\",\n",
    "    partition_cols=[\"annee\"]\n",
    ")\n",
    "def bronze_plv():\n",
    "    df = (\n",
    "        spark.read.format(\"csv\")\n",
    "        .option(\"header\", \"true\")\n",
    "        .load(files_plv)\n",
    "    )\n",
    "    # Extraire l'année depuis le nom du fichier (ex: DIS_PLV_2024_xxx.txt)\n",
    "    df = df.withColumn(\n",
    "        \"annee\",\n",
    "        regexp_extract(col(\"_metadata.file_path\"), r\"DIS_PLV_(\\d{4})\", 1)\n",
    "    )\n",
    "    return df\n",
    "\n"
   ]
  }
 ],
 "metadata": {
  "application/vnd.databricks.v1+notebook": {
   "computePreferences": null,
   "dashboards": [],
   "environmentMetadata": {
    "base_environment": "",
    "environment_version": "4"
   },
   "inputWidgetPreferences": null,
   "language": "python",
   "notebookMetadata": {
    "pythonIndentUnit": 4
   },
   "notebookName": "2-1-Initier la couche bronze",
   "widgets": {}
  },
  "language_info": {
   "name": "python"
  }
 },
 "nbformat": 4,
 "nbformat_minor": 0
}
