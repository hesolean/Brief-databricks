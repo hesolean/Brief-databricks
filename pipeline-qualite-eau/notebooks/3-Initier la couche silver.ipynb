{
 "cells": [
  {
   "cell_type": "code",
   "execution_count": 0,
   "metadata": {
    "application/vnd.databricks.v1+cell": {
     "cellMetadata": {
      "byteLimit": 2048000,
      "rowLimit": 10000
     },
     "inputWidgets": {},
     "nuid": "f85964e7-fc35-4c99-8230-0a5f82020865",
     "showTitle": false,
     "tableResultSettingsMap": {},
     "title": ""
    }
   },
   "outputs": [],
   "source": [
    "import dlt\n",
    "from pyspark.sql.functions import col, when, lower\n",
    "\n",
    "# 🥇 Table source (bronze)\n",
    "@dlt.view\n",
    "def bronze_qualite_eau():\n",
    "    return spark.read.table(\"bronze.bronze_plv\")\n",
    "\n",
    "# 🥈 Table transformée (silver)\n",
    "@dlt.table(\n",
    "    name=\"silver_qualite_eau_conformite\",\n",
    "    comment=\"Ajout de la colonne 'conformite' dans la table silver à partir de la bronze.bronze_plv\",\n",
    "    partition_cols=[\"cddept\", \"annee\"],\n",
    "    table_properties={\n",
    "        \"pipelines.autoOptimize.managed\": \"true\"\n",
    "    }\n",
    ")\n",
    "def silver_qualite_eau_conformite():\n",
    "    df = dlt.read(\"lnd_databricks_workspace.bronze.bronze_plv\")\n",
    "    df_conforme = df.withColumn(\n",
    "        \"conformite\",\n",
    "        when(lower(col(\"conclusionprel\")).like(\"%non conforme%\"), \"non\").otherwise(\"oui\")\n",
    "    )\n",
    "    return df_conforme\n"
   ]
  }
 ],
 "metadata": {
  "application/vnd.databricks.v1+notebook": {
   "computePreferences": null,
   "dashboards": [],
   "environmentMetadata": {
    "base_environment": "",
    "environment_version": "4"
   },
   "inputWidgetPreferences": null,
   "language": "python",
   "notebookMetadata": {
    "pythonIndentUnit": 4
   },
   "notebookName": "3-Initier la couche silver",
   "widgets": {}
  },
  "language_info": {
   "name": "python"
  }
 },
 "nbformat": 4,
 "nbformat_minor": 0
}
