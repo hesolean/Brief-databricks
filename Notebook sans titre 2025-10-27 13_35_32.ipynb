{
 "cells": [
  {
   "cell_type": "markdown",
   "metadata": {
    "application/vnd.databricks.v1+cell": {
     "cellMetadata": {},
     "inputWidgets": {},
     "nuid": "bc2cfedc-d169-4604-bd49-c84e75448a5f",
     "showTitle": false,
     "tableResultSettingsMap": {},
     "title": ""
    }
   },
   "source": [
    "Chargement des zip"
   ]
  },
  {
   "cell_type": "code",
   "execution_count": 0,
   "metadata": {
    "application/vnd.databricks.v1+cell": {
     "cellMetadata": {
      "byteLimit": 2048000,
      "rowLimit": 10000
     },
     "inputWidgets": {},
     "nuid": "313d7a1b-5652-4d05-8c42-3f3106517fc7",
     "showTitle": false,
     "tableResultSettingsMap": {},
     "title": ""
    }
   },
   "outputs": [],
   "source": [
    "import requests\n",
    "import zipfile\n",
    "from azure.storage.blob import BlobServiceClient\n",
    "from io import BytesIO\n",
    "import os\n",
    "\n",
    "DefaultEndpointsProtocol = os.environ[\"DefaultEndpointsProtocol\"]\n",
    "AccountName = os.environ[\"AccountName\"]\n",
    "AccountKey = os.environ[\"AccountKey\"]\n",
    "EndpointSuffix = os.environ[\"EndpointSuffix\"]\n",
    "\n",
    "# 1. Définir les variables\n",
    "urls = [\"https://www.data.gouv.fr/api/1/datasets/r/6994a9f1-3f4b-4e15-a4dc-0e358a6aac13\",\"https://www.data.gouv.fr/api/1/datasets/r/c0350599-a041-4724-9942-ad4c2ba9a7b3\",\"https://www.data.gouv.fr/api/1/datasets/r/96452cf0-329a-4908-8adb-8f061adcca4c\",\"https://www.data.gouv.fr/api/1/datasets/r/77d3151a-739e-4aab-8c34-7a15d7fea55d\",\"https://www.data.gouv.fr/api/1/datasets/r/3c5ebbd9-f6b5-4837-a194-12bfeda7f38e\"]\n",
    "\n",
    "blob_connecting_string = f\"DefaultEndpointsProtocol={DefaultEndpointsProtocol};AccountName={AccountName};AccountKey={AccountKey};EndpointSuffix={EndpointSuffix}\"\n",
    "\n",
    "container_name = \"lnd-fichiers-source\"\n",
    "\n",
    "# 2. Envoyer dans ton Blob\n",
    "blob_service_client = BlobServiceClient.from_connection_string(blob_connecting_string)\n",
    "\n",
    "container_client = blob_service_client.get_container_client(container_name)\n",
    "\n",
    "for annee, url in zip([\"2025\",\"2024\",\"2023\",\"2022\",\"2021\"],urls):\n",
    "    response = requests.get(url)\n",
    "    if response.status_code != 200:\n",
    "        raise Exception(f\"Erreur lors du téléchargement du fichier : {response.status_code}\")\n",
    "    zip_bytes = BytesIO(response.content)\n",
    "    zip_name = f\"dis-{annee}-dept.zip\"\n",
    "    container_client.upload_blob(name=zip_name, data=zip_bytes, overwrite=True)\n",
    "\n",
    "    print(f\"{zip_name} envoyé dans le blob ✅\")\n"
   ]
  },
  {
   "cell_type": "markdown",
   "metadata": {
    "application/vnd.databricks.v1+cell": {
     "cellMetadata": {},
     "inputWidgets": {},
     "nuid": "c61cced6-9eeb-4bde-97dc-09aa79e8463d",
     "showTitle": false,
     "tableResultSettingsMap": {},
     "title": ""
    }
   },
   "source": [
    "Dézippage dans Azure"
   ]
  },
  {
   "cell_type": "code",
   "execution_count": 0,
   "metadata": {
    "application/vnd.databricks.v1+cell": {
     "cellMetadata": {
      "byteLimit": 2048000,
      "rowLimit": 10000
     },
     "inputWidgets": {},
     "nuid": "67e3afc0-a685-4402-9664-74b62706c60f",
     "showTitle": false,
     "tableResultSettingsMap": {},
     "title": ""
    }
   },
   "outputs": [],
   "source": [
    "import zipfile\n",
    "\n",
    "# Connexion à Azure\n",
    "blob_service_client = BlobServiceClient.from_connection_string(blob_connecting_string)\n",
    "source_container = blob_service_client.get_container_client(\"lnd-fichiers-source\")\n",
    "dest_container_name = \"lnd-fichiers-dezip\"\n",
    "\n",
    "# Créer le conteneur de destination si nécessaire\n",
    "if not blob_service_client.get_container_client(dest_container_name).exists():\n",
    "    blob_service_client.create_container(dest_container_name)\n",
    "\n",
    "dest_container = blob_service_client.get_container_client(dest_container_name)\n",
    "\n",
    "# Lister les blobs ZIP\n",
    "blobs_list = source_container.list_blobs()\n",
    "for blob in blobs_list:\n",
    "    if blob.name.endswith(\".zip\"):\n",
    "        print(f\"Décompression de {blob.name}...\")\n",
    "\n",
    "        # Télécharger le ZIP en mémoire\n",
    "        blob_data = source_container.download_blob(blob.name).readall()\n",
    "        zip_bytes = BytesIO(blob_data)\n",
    "\n",
    "        # Dézipper\n",
    "        with zipfile.ZipFile(zip_bytes) as z:\n",
    "            for file_name in z.namelist():\n",
    "                # Lire le fichier dans la mémoire\n",
    "                file_data = z.read(file_name)\n",
    "\n",
    "                # Envoyer le fichier dans le blob de destination\n",
    "                dest_blob_name = file_name  # tu peux rajouter un préfixe si tu veux\n",
    "                dest_container.upload_blob(name=dest_blob_name, data=file_data, overwrite=True)\n",
    "                print(f\"  - {file_name} envoyé dans {dest_container_name} ✅\")\n"
   ]
  }
 ],
 "metadata": {
  "application/vnd.databricks.v1+notebook": {
   "computePreferences": null,
   "dashboards": [],
   "environmentMetadata": {
    "base_environment": "",
    "environment_version": "4"
   },
   "inputWidgetPreferences": null,
   "language": "python",
   "notebookMetadata": {
    "pythonIndentUnit": 4
   },
   "notebookName": "Notebook sans titre 2025-10-27 13_35_32",
   "widgets": {}
  },
  "language_info": {
   "name": "python"
  }
 },
 "nbformat": 4,
 "nbformat_minor": 0
}
